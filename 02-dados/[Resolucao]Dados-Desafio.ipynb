{
 "cells": [
  {
   "cell_type": "code",
   "execution_count": 4,
   "id": "402ecdbe-1a0a-4fc0-aa25-c2ca097dcdbc",
   "metadata": {},
   "outputs": [
    {
     "name": "stdout",
     "output_type": "stream",
     "text": [
      "First 5 records:     data_internacao           especialidade município  idade       sexo\n",
      "0  01/07/2024 06:28       CIRURGIA PLÁSTICA     NATAL     47  MASCULINO\n",
      "1  01/07/2024 07:08  CARDIOLOGIA PEDIÁTRICA   MOSSORÓ     11   FEMININO\n",
      "2  01/07/2024 07:34       ONCOLOGIA CLÍNICA    PILÕES     67  MASCULINO\n",
      "3  01/07/2024 08:06       CIRURGIA PLÁSTICA     NATAL     24   FEMININO\n",
      "4  01/07/2024 08:13                UROLOGIA       AÇU     75  MASCULINO\n",
      "<class 'pandas.core.frame.DataFrame'>\n",
      "RangeIndex: 2110 entries, 0 to 2109\n",
      "Data columns (total 5 columns):\n",
      " #   Column           Non-Null Count  Dtype \n",
      "---  ------           --------------  ----- \n",
      " 0   data_internacao  2110 non-null   object\n",
      " 1   especialidade    2110 non-null   object\n",
      " 2   município        2110 non-null   object\n",
      " 3   idade            2110 non-null   int64 \n",
      " 4   sexo             2110 non-null   object\n",
      "dtypes: int64(1), object(4)\n",
      "memory usage: 82.6+ KB\n",
      "Dados info: None\n",
      "Dimensões: (2110, 5)\n"
     ]
    }
   ],
   "source": [
    "import pandas as pd\n",
    "\n",
    "# Se o arquivo estiver na mesma pasta do notebook\n",
    "arquivo = \"internacoes.csv\"\n",
    "\n",
    "# Ler o CSV\n",
    "dados = pd.read_csv(arquivo, sep=';', encoding='latin1')\n",
    "\n",
    "print(\"First 5 records:\", dados.head())\n",
    "\n",
    "# Exibir informações sobre o dataset\n",
    "print('Dados info:', dados.info())\n",
    "\n",
    "# Exibir dimensões do dataset\n",
    "print('Dimensões:', dados.shape)"
   ]
  },
  {
   "cell_type": "code",
   "execution_count": 5,
   "id": "281fc62d-b7da-4df6-ab64-2d284937e254",
   "metadata": {},
   "outputs": [
    {
     "data": {
      "text/html": [
       "<div>\n",
       "<style scoped>\n",
       "    .dataframe tbody tr th:only-of-type {\n",
       "        vertical-align: middle;\n",
       "    }\n",
       "\n",
       "    .dataframe tbody tr th {\n",
       "        vertical-align: top;\n",
       "    }\n",
       "\n",
       "    .dataframe thead th {\n",
       "        text-align: right;\n",
       "    }\n",
       "</style>\n",
       "<table border=\"1\" class=\"dataframe\">\n",
       "  <thead>\n",
       "    <tr style=\"text-align: right;\">\n",
       "      <th></th>\n",
       "      <th>idade</th>\n",
       "    </tr>\n",
       "  </thead>\n",
       "  <tbody>\n",
       "    <tr>\n",
       "      <th>count</th>\n",
       "      <td>2110.000000</td>\n",
       "    </tr>\n",
       "    <tr>\n",
       "      <th>mean</th>\n",
       "      <td>47.934597</td>\n",
       "    </tr>\n",
       "    <tr>\n",
       "      <th>std</th>\n",
       "      <td>22.143364</td>\n",
       "    </tr>\n",
       "    <tr>\n",
       "      <th>min</th>\n",
       "      <td>0.000000</td>\n",
       "    </tr>\n",
       "    <tr>\n",
       "      <th>25%</th>\n",
       "      <td>33.000000</td>\n",
       "    </tr>\n",
       "    <tr>\n",
       "      <th>50%</th>\n",
       "      <td>52.000000</td>\n",
       "    </tr>\n",
       "    <tr>\n",
       "      <th>75%</th>\n",
       "      <td>65.000000</td>\n",
       "    </tr>\n",
       "    <tr>\n",
       "      <th>max</th>\n",
       "      <td>98.000000</td>\n",
       "    </tr>\n",
       "  </tbody>\n",
       "</table>\n",
       "</div>"
      ],
      "text/plain": [
       "             idade\n",
       "count  2110.000000\n",
       "mean     47.934597\n",
       "std      22.143364\n",
       "min       0.000000\n",
       "25%      33.000000\n",
       "50%      52.000000\n",
       "75%      65.000000\n",
       "max      98.000000"
      ]
     },
     "metadata": {},
     "output_type": "display_data"
    },
    {
     "data": {
      "text/plain": [
       "data_internacao    0\n",
       "especialidade      0\n",
       "município          0\n",
       "idade              0\n",
       "sexo               0\n",
       "dtype: int64"
      ]
     },
     "metadata": {},
     "output_type": "display_data"
    }
   ],
   "source": [
    "# Exibir estatísticas básicas\n",
    "display(dados.describe())\n",
    "\n",
    "# Verificar valores ausentes\n",
    "display(dados.isnull().sum().sort_values(ascending=False))"
   ]
  },
  {
   "cell_type": "code",
   "execution_count": 6,
   "id": "8f2a0775-398f-4177-bab1-0bda155a108c",
   "metadata": {},
   "outputs": [
    {
     "name": "stdout",
     "output_type": "stream",
     "text": [
      "Arquivo Parquet salvo em: internacoes_julagoset_2024.parquet\n"
     ]
    }
   ],
   "source": [
    "# Caminho para salvar o arquivo Parquet\n",
    "arquivo_parquet = \"internacoes_julagoset_2024.parquet\"\n",
    "\n",
    "# Salvar como Parquet\n",
    "dados.to_parquet(arquivo_parquet, engine='pyarrow', index=False)\n",
    "\n",
    "print(f\"Arquivo Parquet salvo em: {arquivo_parquet}\")"
   ]
  },
  {
   "cell_type": "code",
   "execution_count": null,
   "id": "d7f65475-f2e2-455b-964e-df202cf2a1c6",
   "metadata": {},
   "outputs": [],
   "source": []
  }
 ],
 "metadata": {
  "kernelspec": {
   "display_name": "Python (myenv)",
   "language": "python",
   "name": "myenv"
  },
  "language_info": {
   "codemirror_mode": {
    "name": "ipython",
    "version": 3
   },
   "file_extension": ".py",
   "mimetype": "text/x-python",
   "name": "python",
   "nbconvert_exporter": "python",
   "pygments_lexer": "ipython3",
   "version": "3.13.6"
  }
 },
 "nbformat": 4,
 "nbformat_minor": 5
}
